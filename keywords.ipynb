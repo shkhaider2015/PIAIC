{
 "cells": [
  {
   "cell_type": "code",
   "execution_count": 4,
   "metadata": {},
   "outputs": [
    {
     "name": "stdout",
     "output_type": "stream",
     "text": [
      "Enter divisible of x : 0\n"
     ]
    }
   ],
   "source": [
    "x = 5\n",
    "y = int(input(\"Enter divisible of x : \"))\n",
    "z = 0\n",
    "if y != 0:\n",
    "    z = x/y\n",
    "    print(z)\n",
    "else:\n",
    "    assert y == 0, \"it goes to infinity\""
   ]
  },
  {
   "cell_type": "code",
   "execution_count": 5,
   "metadata": {},
   "outputs": [
    {
     "name": "stdout",
     "output_type": "stream",
     "text": [
      "Cannot divided by zero\n",
      "Finally block is run\n"
     ]
    }
   ],
   "source": [
    "a = 3\n",
    "b = 0\n",
    "\n",
    "try:\n",
    "    print(a/b)\n",
    "except ZeroDivisionError:\n",
    "    print(\"Cannot divided by zero\")\n",
    "else:\n",
    "    print(\"else block is run !\")\n",
    "finally:\n",
    "    print(\"Finally block is run\")\n",
    "    "
   ]
  },
  {
   "cell_type": "code",
   "execution_count": 8,
   "metadata": {},
   "outputs": [
    {
     "name": "stdout",
     "output_type": "stream",
     "text": [
      "1.5\n",
      "else block is run !1.5\n",
      "Finally block is run\n"
     ]
    }
   ],
   "source": [
    "a = 3\n",
    "b = 2\n",
    "\n",
    "try:\n",
    "    print(a/b)\n",
    "except ZeroDivisionError:\n",
    "    print(\"Cannot divided by zero\")\n",
    "else:\n",
    "    print(\"else block is run !\" + str(a/b))\n",
    "finally:\n",
    "    print(\"Finally block is run\")"
   ]
  },
  {
   "cell_type": "code",
   "execution_count": null,
   "metadata": {},
   "outputs": [],
   "source": []
  }
 ],
 "metadata": {
  "kernelspec": {
   "display_name": "Python 3",
   "language": "python",
   "name": "python3"
  },
  "language_info": {
   "codemirror_mode": {
    "name": "ipython",
    "version": 3
   },
   "file_extension": ".py",
   "mimetype": "text/x-python",
   "name": "python",
   "nbconvert_exporter": "python",
   "pygments_lexer": "ipython3",
   "version": "3.7.3"
  }
 },
 "nbformat": 4,
 "nbformat_minor": 2
}
